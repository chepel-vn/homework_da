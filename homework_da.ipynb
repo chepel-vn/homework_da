{
 "cells": [
  {
   "cell_type": "code",
   "execution_count": 122,
   "metadata": {},
   "outputs": [],
   "source": [
    "import pandas as pd"
   ]
  },
  {
   "cell_type": "code",
   "execution_count": 367,
   "metadata": {},
   "outputs": [],
   "source": [
    "DATA_PATH = 'names\\\\'"
   ]
  },
  {
   "cell_type": "code",
   "execution_count": 368,
   "metadata": {},
   "outputs": [],
   "source": [
    "def read_files(*args):\n",
    "    df_list = []\n",
    "    for year in args:\n",
    "        year_s = str(year)\n",
    "        df = pd.read_csv(f\"{DATA_PATH}yob{year_s}.txt\", names=['Names', 'Gender', 'Count'])\n",
    "        df['Year'] = year\n",
    "        df_list.append(df)\n",
    "    df_res = pd.concat(df_list)  \n",
    "    return df_res"
   ]
  },
  {
   "cell_type": "code",
   "execution_count": 369,
   "metadata": {},
   "outputs": [],
   "source": [
    "def count_top3(*args):\n",
    "    df_res = read_files(*args)\n",
    "    df_result = df_res.groupby(['Names']).sum().sort_values(by=['Count'], ascending=False)[0:3].T\n",
    "    list_res = [x for x in df_result]    \n",
    "    return list_res"
   ]
  },
  {
   "cell_type": "code",
   "execution_count": 370,
   "metadata": {},
   "outputs": [],
   "source": [
    "def count_dynamics(*args):\n",
    "    res_dict = {}\n",
    "    list_f = []\n",
    "    list_m = []\n",
    "    df_res = read_files(*args) \n",
    "    df_sum = df_res.groupby(['Gender', 'Year']).sum()\n",
    "    for key,value in df_sum['Count'].to_dict().items():\n",
    "        if key[0] == 'F':\n",
    "            list_f.append(value)\n",
    "        else:\n",
    "            list_m.append(value)\n",
    "    res_dict['F'] = list_f\n",
    "    res_dict['M'] = list_m\n",
    "\n",
    "    return res_dict"
   ]
  },
  {
   "cell_type": "code",
   "execution_count": 371,
   "metadata": {},
   "outputs": [
    {
     "data": {
      "text/plain": [
       "['John', 'William', 'Mary']"
      ]
     },
     "execution_count": 371,
     "metadata": {},
     "output_type": "execute_result"
    }
   ],
   "source": [
    "list_res = count_top3(1880)\n",
    "list_res"
   ]
  },
  {
   "cell_type": "code",
   "execution_count": 372,
   "metadata": {},
   "outputs": [
    {
     "data": {
      "text/plain": [
       "['James', 'John', 'Robert']"
      ]
     },
     "execution_count": 372,
     "metadata": {},
     "output_type": "execute_result"
    }
   ],
   "source": [
    "list_res = count_top3(1900, 1950, 2000)\n",
    "list_res"
   ]
  },
  {
   "cell_type": "code",
   "execution_count": 374,
   "metadata": {},
   "outputs": [
    {
     "data": {
      "text/plain": [
       "{'F': [299798, 1713065, 1815295], 'M': [150480, 1790437, 1963202]}"
      ]
     },
     "execution_count": 374,
     "metadata": {},
     "output_type": "execute_result"
    }
   ],
   "source": [
    "list_res = count_dynamics(1900, 1950, 2000)\n",
    "list_res"
   ]
  }
 ],
 "metadata": {
  "kernelspec": {
   "display_name": "Python 3",
   "language": "python",
   "name": "python3"
  },
  "language_info": {
   "codemirror_mode": {
    "name": "ipython",
    "version": 3
   },
   "file_extension": ".py",
   "mimetype": "text/x-python",
   "name": "python",
   "nbconvert_exporter": "python",
   "pygments_lexer": "ipython3",
   "version": "3.7.3"
  }
 },
 "nbformat": 4,
 "nbformat_minor": 4
}
